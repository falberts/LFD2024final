{
  "cells": [
    {
      "cell_type": "markdown",
      "metadata": {
        "id": "OWCP2kJF0kVO"
      },
      "source": [
        "# **Connect to Google Drive:**"
      ]
    },
    {
      "cell_type": "code",
      "execution_count": 2,
      "metadata": {
        "colab": {
          "base_uri": "https://localhost:8080/"
        },
        "id": "wGXIyUlo0dS6",
        "outputId": "71116761-68a0-4af2-b6e7-5ff94dedbdc6"
      },
      "outputs": [
        {
          "output_type": "stream",
          "name": "stdout",
          "text": [
            "Mounted at /content/gdrive\n"
          ]
        }
      ],
      "source": [
        "from google.colab import drive\n",
        "drive.mount('/content/gdrive')"
      ]
    },
    {
      "cell_type": "markdown",
      "metadata": {
        "id": "YJhL3gdh0wgR"
      },
      "source": [
        "Import dependencies and verify that files are available:"
      ]
    },
    {
      "cell_type": "code",
      "execution_count": 3,
      "metadata": {
        "id": "NJowFJeM0nv0"
      },
      "outputs": [],
      "source": [
        "!pip install nltk\n",
        "!pip install keras_tuner\n",
        "!pip install tensorflow==2.15.0\n",
        "!pip install tf-keras==2.15.0\n",
        "!pip install transformers==4.37.0\n",
        "!pip install ipython-autotime\n",
        "%load_ext autotime\n",
        "\n",
        "import keras_tuner as kt\n",
        "from tensorflow.keras.optimizers import SGD, Adam, Adagrad\n",
        "import nltk\n",
        "import os\n",
        "import random as python_random\n",
        "import json\n",
        "import argparse\n",
        "import numpy as np\n",
        "from keras.models import Sequential\n",
        "from keras.layers import Dense, Embedding, LSTM, Bidirectional, Dropout\n",
        "from keras.initializers import Constant\n",
        "from sklearn.metrics import accuracy_score, precision_recall_fscore_support, confusion_matrix, ConfusionMatrixDisplay, classification_report\n",
        "from sklearn.preprocessing import LabelBinarizer, LabelEncoder, OneHotEncoder\n",
        "from tensorflow.keras.optimizers import SGD, Adam, Adagrad\n",
        "from tensorflow.keras.layers import TextVectorization\n",
        "from tensorflow.keras.preprocessing.sequence import pad_sequences\n",
        "import tensorflow as tf\n",
        "import re\n",
        "from nltk.corpus import stopwords\n",
        "from nltk.tokenize import word_tokenize\n",
        "from sklearn.naive_bayes import MultinomialNB\n",
        "import matplotlib.pyplot as plt\n",
        "from sklearn.svm import SVC\n",
        "from sklearn.svm import LinearSVC\n",
        "from sklearn.preprocessing import LabelEncoder\n",
        "from tensorflow.keras.layers import TextVectorization\n",
        "from sklearn.feature_extraction.text import TfidfVectorizer, CountVectorizer\n",
        "import math\n",
        "from transformers import TFAutoModelForSequenceClassification\n",
        "from transformers import AutoTokenizer\n",
        "from tensorflow.keras.losses import BinaryCrossentropy\n",
        "\n",
        "\n",
        "nltk.download('punkt')\n",
        "nltk.download('stopwords')\n",
        "\n",
        "# Make reproducible as much as possible\n",
        "np.random.seed(1234)\n",
        "tf.random.set_seed(1234)\n",
        "python_random.seed(1234)"
      ]
    },
    {
      "cell_type": "code",
      "execution_count": 4,
      "metadata": {
        "colab": {
          "base_uri": "https://localhost:8080/"
        },
        "id": "pXpglJIm0z72",
        "outputId": "91233b79-f73f-40d2-bc33-0dd72882c369"
      },
      "outputs": [
        {
          "output_type": "execute_result",
          "data": {
            "text/plain": [
              "['test.tsv',\n",
              " 'dev.tsv',\n",
              " 'train.tsv',\n",
              " 'glove.twitter.27B.25d.txt',\n",
              " 'glove.twitter.27B.50d.txt',\n",
              " 'wiki-news-300d-1M-subword.vec',\n",
              " 'bad-words.txt']"
            ]
          },
          "metadata": {},
          "execution_count": 4
        }
      ],
      "source": [
        "os.listdir('/content/gdrive/MyDrive/data_project/')"
      ]
    },
    {
      "cell_type": "markdown",
      "metadata": {
        "id": "U-MXBB6nMnmZ"
      },
      "source": [
        "Pre-processing"
      ]
    },
    {
      "cell_type": "code",
      "execution_count": 7,
      "metadata": {
        "id": "UD2kbOLeKjZk"
      },
      "outputs": [],
      "source": [
        "def preprocess_texts(text, remove_user, remove_stop, remove_char):\n",
        "    # Lowercase the text\n",
        "    text = text.lower()\n",
        "\n",
        "    # Remove usernames\n",
        "    if remove_user:\n",
        "        text = re.sub(r'@user', '', text)\n",
        "    # Remove unwanted characters or formatting issues using regex\n",
        "    if remove_char:\n",
        "        text = re.sub(r\"[^a-zA-Z0-9\\s.,!?']\", ' ', text)\n",
        "    # Remove stop words\n",
        "    if remove_stop:\n",
        "        stop_words = set(stopwords.words('english'))\n",
        "        text = ' '.join(word for word in text.split() if word not in stop_words)\n",
        "    # Remove extra whitespace\n",
        "    text = re.sub(r'\\s+', ' ', text).strip()\n",
        "\n",
        "    text = ' '.join(word_tokenize(text))\n",
        "    return text"
      ]
    },
    {
      "cell_type": "markdown",
      "metadata": {
        "id": "TMysks5bNQE2"
      },
      "source": [
        "Read data"
      ]
    },
    {
      "cell_type": "code",
      "execution_count": 8,
      "metadata": {
        "id": "whx-zBTr0mGU"
      },
      "outputs": [],
      "source": [
        "def read_corpus(corpus_file, remove_user=False, remove_stop=False, remove_char=False):\n",
        "    '''Read in review data set and returns docs and labels'''\n",
        "    documents = []\n",
        "    labels = []\n",
        "    with open(corpus_file, encoding='utf-8') as f:\n",
        "        for line in f:\n",
        "            tokens = line.strip()\n",
        "            labels.append(tokens.split()[-1])\n",
        "            tokens = preprocess_texts(tokens, remove_user, remove_stop, remove_char)\n",
        "            documents.append(\" \".join(tokens.split()[:-1]).strip())\n",
        "    return documents, labels\n",
        "\n",
        "def read_embeddings(embeddings_file):\n",
        "    '''Read in word embeddings from file and save as numpy array'''\n",
        "    embeddings = {}\n",
        "    with open(embeddings_file, encoding='utf-8') as f:\n",
        "        data = f.readlines()\n",
        "\n",
        "    for line in data:\n",
        "        tokens = line.strip().split()\n",
        "        word = tokens[0]\n",
        "        embedding = np.array(tokens[1:])\n",
        "        embeddings[word] = embedding\n",
        "    return embeddings\n",
        "\n",
        "def get_emb_matrix(voc, emb):\n",
        "    '''Get embedding matrix given vocab and the embeddings'''\n",
        "    num_tokens = len(voc) + 2\n",
        "    word_index = dict(zip(voc, range(len(voc))))\n",
        "    # Bit hacky, get embedding dimension from the word \"the\"\n",
        "    embedding_dim = len(emb[\"the\"])\n",
        "    # Prepare embedding matrix to the correct size\n",
        "    embedding_matrix = np.zeros((num_tokens, embedding_dim))\n",
        "    for word, i in word_index.items():\n",
        "        embedding_vector = emb.get(word)\n",
        "        if embedding_vector is not None:\n",
        "            # Words not found in embedding index will be all-zeros.\n",
        "            embedding_matrix[i] = embedding_vector\n",
        "    # Final matrix with pretrained embeddings that we can feed to embedding layer\n",
        "    return embedding_matrix"
      ]
    },
    {
      "cell_type": "markdown",
      "metadata": {
        "id": "OXC3xKR31W_W"
      },
      "source": [
        "## Change settings"
      ]
    },
    {
      "cell_type": "code",
      "execution_count": 9,
      "metadata": {
        "id": "83MnQ95o1bas"
      },
      "outputs": [],
      "source": [
        "train_file = '/content/gdrive/MyDrive/data_project/train.tsv'\n",
        "dev_file = '/content/gdrive/MyDrive/data_project/dev.tsv'\n",
        "test_file = '/content/gdrive/MyDrive/data_project/test.tsv'\n",
        "embeddings_file = '/content/gdrive/MyDrive/data_project/glove.twitter.27B.25d.txt'\n",
        "offensive_words = '/content/gdrive/MyDrive/data_project/bad-words.txt'"
      ]
    },
    {
      "cell_type": "markdown",
      "metadata": {
        "id": "yx2bSbMH0sjF"
      },
      "source": [
        "# LSTM"
      ]
    },
    {
      "cell_type": "code",
      "source": [
        "def preprocess_data(documents, labels, max_len=25):\n",
        "    '''Tokenize documents, encode labels, and pad sequences'''\n",
        "    # Text vectorization with a larger vocabulary and custom pre-processing\n",
        "    vectorizer = TextVectorization(\n",
        "        max_tokens=20000,\n",
        "        output_sequence_length=max_len,\n",
        "        standardize='lower_and_strip_punctuation',\n",
        "        split='whitespace'\n",
        "    )\n",
        "\n",
        "    # Fit the vectorizer on the documents\n",
        "    vectorizer.adapt(documents)\n",
        "\n",
        "    # Convert documents to tokenized sequences\n",
        "    X = vectorizer(documents)\n",
        "\n",
        "    # Label encoding with handling for unseen labels if needed\n",
        "    label_encoder = LabelEncoder()\n",
        "    y = label_encoder.fit_transform(labels)\n",
        "\n",
        "    return X, y, vectorizer, label_encoder\n"
      ],
      "metadata": {
        "id": "OWL2r3vFkr4-"
      },
      "execution_count": 11,
      "outputs": []
    },
    {
      "cell_type": "code",
      "source": [
        "# Load pretrained embeddings\n",
        "embeddings = read_embeddings(embeddings_file)"
      ],
      "metadata": {
        "id": "E42jmwo8Q5oI"
      },
      "execution_count": 12,
      "outputs": []
    },
    {
      "cell_type": "code",
      "execution_count": 13,
      "metadata": {
        "id": "jfrJqxKNK6zA"
      },
      "outputs": [],
      "source": [
        "# Load training, validation, and test data\n",
        "train_docs, train_labels = read_corpus(train_file)\n",
        "dev_docs, dev_labels = read_corpus(dev_file)\n",
        "test_docs, test_labels = read_corpus(test_file)\n",
        "\n",
        "# Preprocess the data\n",
        "max_len = 140\n",
        "X_train, y_train, vectorizer, label_encoder = preprocess_data(train_docs, train_labels, max_len)\n",
        "X_val, y_val, _, _ = preprocess_data(dev_docs, dev_labels, max_len)\n",
        "X_test, y_test, _, _ = preprocess_data(test_docs, test_labels, max_len)\n",
        "\n",
        "# Prepare embedding matrix\n",
        "global vocab_size, embedding_dim, embedding_matrix, max_len\n",
        "vocab = vectorizer.get_vocabulary()\n",
        "embedding_matrix = get_emb_matrix(vocab, embeddings)\n",
        "vocab_size = len(vocab) + 2  # Adjusted for padding and OOV tokens\n",
        "embedding_dim = embedding_matrix.shape[1]"
      ]
    },
    {
      "cell_type": "code",
      "source": [
        "print(train_docs[:5])"
      ],
      "metadata": {
        "colab": {
          "base_uri": "https://localhost:8080/"
        },
        "id": "7f4IKAUX8-t9",
        "outputId": "3a378819-02c8-4e6e-adcc-2bf99164f547"
      },
      "execution_count": 14,
      "outputs": [
        {
          "output_type": "stream",
          "name": "stdout",
          "text": [
            "['@ user she should ask a few native americans what their take on this is .', '@ user @ user go home you ’ re drunk ! ! ! @ user # maga # trump2020 👊🇺🇸👊 url', 'amazon is investigating chinese employees who are selling internal data to third-party sellers looking for an edge in the competitive marketplace . url # amazon # maga # kag # china # tcot', \"`` @ user someone should'vetaken '' '' this piece of shit to a volcano . 😂 '' '' ''\", '@ user @ user obama wanted liberals & amp ; illegals to move into red states']\n"
          ]
        }
      ]
    },
    {
      "cell_type": "code",
      "source": [
        "print(X_train.shape)\n",
        "print(y_train.shape)\n",
        "print(X_val.shape)\n",
        "print(y_val.shape)\n",
        "print(X_test.shape)\n",
        "print(y_test.shape)"
      ],
      "metadata": {
        "colab": {
          "base_uri": "https://localhost:8080/"
        },
        "id": "v3QCbIA9gE4V",
        "outputId": "58f2e71c-1da2-4ff2-e7a7-818453c46350"
      },
      "execution_count": 15,
      "outputs": [
        {
          "output_type": "stream",
          "name": "stdout",
          "text": [
            "(12240, 140)\n",
            "(12240,)\n",
            "(1000, 140)\n",
            "(1000,)\n",
            "(860, 140)\n",
            "(860,)\n"
          ]
        }
      ]
    },
    {
      "cell_type": "code",
      "source": [
        "def build_model(hp):\n",
        "    learning_rate = hp.Choice('learning_rate', values=[0.001, 0.0005, 0.0001])\n",
        "\n",
        "    optimizer = tf.keras.optimizers.Adam(learning_rate=learning_rate)\n",
        "\n",
        "    model = tf.keras.models.Sequential()\n",
        "\n",
        "    # Embedding layer with pretrained embeddings\n",
        "    model.add(tf.keras.layers.Embedding(\n",
        "        input_dim=embedding_matrix.shape[0],\n",
        "        output_dim=embedding_dim,\n",
        "        weights=[embedding_matrix],\n",
        "        input_length=max_len,\n",
        "        trainable=False))\n",
        "\n",
        "    # LSTM layers\n",
        "    model.add(tf.keras.layers.Bidirectional(tf.keras.layers.LSTM(hp.Int('units1', min_value=64, max_value=256, step=64), return_sequences=True)))\n",
        "    model.add(tf.keras.layers.Bidirectional(tf.keras.layers.LSTM(hp.Int('units2', min_value=32, max_value=128, step=32))))\n",
        "\n",
        "    # Dropout layers\n",
        "    model.add(tf.keras.layers.Dropout(hp.Float('dropout_rate', min_value=0.4, max_value=0.6, step=0.1)))\n",
        "\n",
        "    # Output layer for binary classification\n",
        "    model.add(tf.keras.layers.Dense(1, activation='sigmoid'))\n",
        "\n",
        "    # Compile the model\n",
        "    model.compile(optimizer=optimizer,\n",
        "                  loss='binary_crossentropy',\n",
        "                  metrics=['accuracy'])\n",
        "\n",
        "    return model\n",
        "\n",
        "# Set up Keras Tuner with Hyperband\n",
        "tuner = kt.Hyperband(build_model,\n",
        "                     objective='binary_crossentropy',\n",
        "                     max_epochs=20,\n",
        "                     factor=5,\n",
        "                     directory='Tuner',\n",
        "                     project_name='binary_classification_tuning',\n",
        "                     # Set overwrite to True to clear any existing trials\n",
        "                     overwrite=False)\n",
        "\n",
        "# Early stopping callback to prevent overfitting\n",
        "stop_early = tf.keras.callbacks.EarlyStopping(monitor='val_loss', patience=3)"
      ],
      "metadata": {
        "id": "qHghM6a8h2hG",
        "colab": {
          "base_uri": "https://localhost:8080/"
        },
        "outputId": "bf265fc7-715d-445d-f8d8-a5bc966d9540"
      },
      "execution_count": 16,
      "outputs": [
        {
          "output_type": "stream",
          "name": "stderr",
          "text": [
            "/usr/local/lib/python3.10/dist-packages/keras/src/layers/core/embedding.py:90: UserWarning: Argument `input_length` is deprecated. Just remove it.\n",
            "  warnings.warn(\n"
          ]
        }
      ]
    },
    {
      "cell_type": "code",
      "source": [
        "# Run the tuner search on the data\n",
        "tuner.search(X_train, y_train,\n",
        "             epochs=20,\n",
        "             validation_data=(X_val, y_val),\n",
        "             callbacks=[stop_early])"
      ],
      "metadata": {
        "colab": {
          "base_uri": "https://localhost:8080/"
        },
        "id": "_rw8KlHXkEGr",
        "outputId": "dfdffa18-a58d-4782-9ab4-3c65d1c36c2d"
      },
      "execution_count": null,
      "outputs": [
        {
          "output_type": "stream",
          "name": "stdout",
          "text": [
            "Trial 2 Complete [00h 13m 35s]\n",
            "\n",
            "Best binary_crossentropy So Far: None\n",
            "Total elapsed time: 00h 39m 14s\n",
            "\n",
            "Search: Running Trial #3\n",
            "\n",
            "Value             |Best Value So Far |Hyperparameter\n",
            "0.0001            |0.0001            |learning_rate\n",
            "192               |128               |units1\n",
            "32                |128               |units2\n",
            "0.5               |0.5               |dropout_rate\n",
            "4                 |4                 |tuner/epochs\n",
            "0                 |0                 |tuner/initial_epoch\n",
            "1                 |1                 |tuner/bracket\n",
            "0                 |0                 |tuner/round\n",
            "\n",
            "Epoch 1/4\n",
            "\u001b[1m383/383\u001b[0m \u001b[32m━━━━━━━━━━━━━━━━━━━━\u001b[0m\u001b[37m\u001b[0m \u001b[1m297s\u001b[0m 759ms/step - accuracy: 0.6673 - loss: 0.6339 - val_accuracy: 0.6280 - val_loss: 0.6683\n",
            "Epoch 2/4\n",
            "\u001b[1m383/383\u001b[0m \u001b[32m━━━━━━━━━━━━━━━━━━━━\u001b[0m\u001b[37m\u001b[0m \u001b[1m291s\u001b[0m 759ms/step - accuracy: 0.6982 - loss: 0.5779 - val_accuracy: 0.6230 - val_loss: 0.6806\n",
            "Epoch 3/4\n",
            "\u001b[1m383/383\u001b[0m \u001b[32m━━━━━━━━━━━━━━━━━━━━\u001b[0m\u001b[37m\u001b[0m \u001b[1m321s\u001b[0m 758ms/step - accuracy: 0.7118 - loss: 0.5607 - val_accuracy: 0.6160 - val_loss: 0.6892\n",
            "Epoch 4/4\n",
            "\u001b[1m188/383\u001b[0m \u001b[32m━━━━━━━━━\u001b[0m\u001b[37m━━━━━━━━━━━\u001b[0m \u001b[1m2:21\u001b[0m 726ms/step - accuracy: 0.7244 - loss: 0.5487"
          ]
        }
      ]
    },
    {
      "cell_type": "code",
      "source": [
        "# Retrieve the best model after tuning\n",
        "best_model = tuner.get_best_models(num_models=1)[0]\n",
        "\n",
        "# print best model hyperparameters\n",
        "print(best_model.summary())\n",
        "# learning rate\n",
        "print(best_model.optimizer.lr)"
      ],
      "metadata": {
        "colab": {
          "base_uri": "https://localhost:8080/"
        },
        "id": "WmiAZpZh7c8n",
        "outputId": "e9a2c6b0-3bd7-47c4-cf3d-d0fdfe09bd69"
      },
      "execution_count": 49,
      "outputs": [
        {
          "output_type": "stream",
          "name": "stdout",
          "text": [
            "Model: \"sequential\"\n",
            "_________________________________________________________________\n",
            " Layer (type)                Output Shape              Param #   \n",
            "=================================================================\n",
            " embedding (Embedding)       (None, 140, 25)           496000    \n",
            "                                                                 \n",
            " bidirectional (Bidirection  (None, 140, 128)          46080     \n",
            " al)                                                             \n",
            "                                                                 \n",
            " bidirectional_1 (Bidirecti  (None, 128)               98816     \n",
            " onal)                                                           \n",
            "                                                                 \n",
            " dropout (Dropout)           (None, 128)               0         \n",
            "                                                                 \n",
            " dense (Dense)               (None, 1)                 129       \n",
            "                                                                 \n",
            "=================================================================\n",
            "Total params: 641025 (2.45 MB)\n",
            "Trainable params: 145025 (566.50 KB)\n",
            "Non-trainable params: 496000 (1.89 MB)\n",
            "_________________________________________________________________\n",
            "None\n",
            "time: 6.01 s (started: 2024-11-04 19:21:59 +00:00)\n"
          ]
        }
      ]
    },
    {
      "cell_type": "code",
      "execution_count": 50,
      "metadata": {
        "id": "L6zxJblElKoW",
        "colab": {
          "base_uri": "https://localhost:8080/"
        },
        "outputId": "3172abf2-40e7-4ea6-bfc2-341e16c08a71"
      },
      "outputs": [
        {
          "output_type": "stream",
          "name": "stdout",
          "text": [
            "27/27 [==============================] - 3s 16ms/step\n",
            "time: 2.88 s (started: 2024-11-04 19:22:14 +00:00)\n"
          ]
        }
      ],
      "source": [
        "# Evaluate the best model on the test data\n",
        "y_pred = best_model.predict(X_test)\n",
        "\n",
        "y_pred_classes = (y_pred > 0.5).astype(int)"
      ]
    },
    {
      "cell_type": "code",
      "source": [
        "# classification report\n",
        "print(classification_report(y_pred_classes, y_test, target_names=label_encoder.classes_))"
      ],
      "metadata": {
        "id": "-4kgWJPd1_KU",
        "colab": {
          "base_uri": "https://localhost:8080/"
        },
        "outputId": "6a7956d0-a0cd-4125-f6e8-55d44056b26f"
      },
      "execution_count": 51,
      "outputs": [
        {
          "output_type": "stream",
          "name": "stdout",
          "text": [
            "              precision    recall  f1-score   support\n",
            "\n",
            "         NOT       0.85      0.72      0.78       734\n",
            "         OFF       0.15      0.29      0.20       126\n",
            "\n",
            "    accuracy                           0.66       860\n",
            "   macro avg       0.50      0.50      0.49       860\n",
            "weighted avg       0.75      0.66      0.70       860\n",
            "\n",
            "time: 27.3 ms (started: 2024-11-04 19:22:17 +00:00)\n"
          ]
        }
      ]
    },
    {
      "cell_type": "markdown",
      "source": [
        "# Baselines & Data Inspection"
      ],
      "metadata": {
        "id": "Si00FKSeaIzQ"
      }
    },
    {
      "cell_type": "code",
      "execution_count": 24,
      "metadata": {
        "colab": {
          "base_uri": "https://localhost:8080/"
        },
        "id": "T6kwl_0I1GQW",
        "outputId": "912ebfc9-7a25-4862-ae70-af25466dfbec"
      },
      "outputs": [
        {
          "output_type": "stream",
          "name": "stdout",
          "text": [
            "All 0:\n",
            "              precision    recall  f1-score   support\n",
            "\n",
            "         NOT       0.72      1.00      0.84       620\n",
            "         OFF       0.00      0.00      0.00       240\n",
            "\n",
            "    accuracy                           0.72       860\n",
            "   macro avg       0.36      0.50      0.42       860\n",
            "weighted avg       0.52      0.72      0.60       860\n",
            "\n",
            "All 1:\n",
            "              precision    recall  f1-score   support\n",
            "\n",
            "         NOT       0.00      0.00      0.00       620\n",
            "         OFF       0.28      1.00      0.44       240\n",
            "\n",
            "    accuracy                           0.28       860\n",
            "   macro avg       0.14      0.50      0.22       860\n",
            "weighted avg       0.08      0.28      0.12       860\n",
            "\n",
            "Found embeddings for 15317 out of 19838 words.\n",
            "Label distribution in training set:\n",
            "{'NOT': 8192, 'OFF': 4048}\n",
            "\n",
            "Label distribution in validation set:\n",
            "{'NOT': 648, 'OFF': 352}\n",
            "\n",
            "Label distribution in test set:\n",
            "{'NOT': 620, 'OFF': 240}\n",
            "\n"
          ]
        },
        {
          "output_type": "stream",
          "name": "stderr",
          "text": [
            "/usr/local/lib/python3.10/dist-packages/sklearn/metrics/_classification.py:1531: UndefinedMetricWarning: Precision is ill-defined and being set to 0.0 in labels with no predicted samples. Use `zero_division` parameter to control this behavior.\n",
            "  _warn_prf(average, modifier, f\"{metric.capitalize()} is\", len(result))\n",
            "/usr/local/lib/python3.10/dist-packages/sklearn/metrics/_classification.py:1531: UndefinedMetricWarning: Precision is ill-defined and being set to 0.0 in labels with no predicted samples. Use `zero_division` parameter to control this behavior.\n",
            "  _warn_prf(average, modifier, f\"{metric.capitalize()} is\", len(result))\n",
            "/usr/local/lib/python3.10/dist-packages/sklearn/metrics/_classification.py:1531: UndefinedMetricWarning: Precision is ill-defined and being set to 0.0 in labels with no predicted samples. Use `zero_division` parameter to control this behavior.\n",
            "  _warn_prf(average, modifier, f\"{metric.capitalize()} is\", len(result))\n",
            "/usr/local/lib/python3.10/dist-packages/sklearn/metrics/_classification.py:1531: UndefinedMetricWarning: Precision is ill-defined and being set to 0.0 in labels with no predicted samples. Use `zero_division` parameter to control this behavior.\n",
            "  _warn_prf(average, modifier, f\"{metric.capitalize()} is\", len(result))\n",
            "/usr/local/lib/python3.10/dist-packages/sklearn/metrics/_classification.py:1531: UndefinedMetricWarning: Precision is ill-defined and being set to 0.0 in labels with no predicted samples. Use `zero_division` parameter to control this behavior.\n",
            "  _warn_prf(average, modifier, f\"{metric.capitalize()} is\", len(result))\n",
            "/usr/local/lib/python3.10/dist-packages/sklearn/metrics/_classification.py:1531: UndefinedMetricWarning: Precision is ill-defined and being set to 0.0 in labels with no predicted samples. Use `zero_division` parameter to control this behavior.\n",
            "  _warn_prf(average, modifier, f\"{metric.capitalize()} is\", len(result))\n"
          ]
        },
        {
          "output_type": "stream",
          "name": "stdout",
          "text": [
            "Offensive words:\n",
            "              precision    recall  f1-score   support\n",
            "\n",
            "         NOT       0.83      0.71      0.76       620\n",
            "         OFF       0.45      0.62      0.52       240\n",
            "\n",
            "    accuracy                           0.68       860\n",
            "   macro avg       0.64      0.66      0.64       860\n",
            "weighted avg       0.72      0.68      0.70       860\n",
            "\n"
          ]
        }
      ],
      "source": [
        "#Baseline: all 0\n",
        "y_pred_all_zeros = np.zeros_like(y_test)\n",
        "print(\"All 0:\")\n",
        "print(classification_report(y_test, y_pred_all_zeros, target_names=label_encoder.classes_))\n",
        "\n",
        "#Baseline: all 1\n",
        "y_pred_all_ones = np.ones_like(y_test)\n",
        "print(\"All 1:\")\n",
        "print(classification_report(y_test, y_pred_all_ones, target_names=label_encoder.classes_))\n",
        "\n",
        "# Embedding coverage\n",
        "found = sum(1 for word in vocab if word in embeddings)\n",
        "print(f\"Found embeddings for {found} out of {len(vocab)} words.\")\n",
        "\n",
        "# Label distribution\n",
        "unique_labels, counts = np.unique(y_train, return_counts=True)\n",
        "print(\"Label distribution in training set:\")\n",
        "print(dict(zip(label_encoder.inverse_transform(unique_labels), counts)))\n",
        "print()\n",
        "unique_labels, counts = np.unique(y_val, return_counts=True)\n",
        "print(\"Label distribution in validation set:\")\n",
        "print(dict(zip(label_encoder.inverse_transform(unique_labels), counts)))\n",
        "print()\n",
        "unique_labels, counts = np.unique(y_test, return_counts=True)\n",
        "print(\"Label distribution in test set:\")\n",
        "print(dict(zip(label_encoder.inverse_transform(unique_labels), counts)))\n",
        "print()\n",
        "\n",
        "# Predict based on offensive words\n",
        "with open(offensive_words, 'r') as f:\n",
        "    offensive_words_list = f.read().splitlines()\n",
        "\n",
        "\n",
        "y_pred_offensive = np.zeros_like(y_test)\n",
        "for i, doc in enumerate(test_docs):\n",
        "    for word in doc.split():\n",
        "        if word in offensive_words_list:\n",
        "            y_pred_offensive[i] = 1\n",
        "\n",
        "print(\"Offensive words:\")\n",
        "print(classification_report(y_test, y_pred_offensive, target_names=label_encoder.classes_))"
      ]
    },
    {
      "cell_type": "markdown",
      "source": [
        "# Naive Bayes (BOW)"
      ],
      "metadata": {
        "id": "IyhaHM1PdYrT"
      }
    },
    {
      "cell_type": "code",
      "source": [
        "# Create a CountVectorizer with optimized features\n",
        "vectorizer = CountVectorizer(\n",
        "    max_features=20000,  # Limit to 20,000 features\n",
        "    # stop_words='english',  # Remove common English stop words\n",
        "    # lowercase=True,\n",
        "    ngram_range=(1, 2)  # Use unigrams and bigrams\n",
        ")\n",
        "\n",
        "# Fit the vectorizer on the training data\n",
        "X_train_bow = vectorizer.fit_transform(train_docs)\n",
        "\n",
        "# Transform the validation and test data using the fitted vectorizer\n",
        "X_val_bow = vectorizer.transform(dev_docs)\n",
        "X_test_bow = vectorizer.transform(test_docs)\n",
        "\n",
        "# Train a Multinomial Naive Bayes classifier\n",
        "nb_classifier = MultinomialNB()\n",
        "nb_classifier.fit(X_train_bow, y_train)\n",
        "\n",
        "# Predict on the validation set\n",
        "y_pred_val = nb_classifier.predict(X_val_bow)\n",
        "\n",
        "# Predict on the test set\n",
        "y_pred_test = nb_classifier.predict(X_test_bow)"
      ],
      "metadata": {
        "id": "kYR1oWKGeY6t"
      },
      "execution_count": null,
      "outputs": []
    },
    {
      "cell_type": "code",
      "source": [
        "print(\"Validation Set Evaluation:\")\n",
        "print(classification_report(y_val, y_pred_val, target_names=label_encoder.classes_))\n",
        "\n",
        "print(\"Test Set Evaluation:\")\n",
        "print(classification_report(y_test, y_pred_test, target_names=label_encoder.classes_))"
      ],
      "metadata": {
        "colab": {
          "base_uri": "https://localhost:8080/"
        },
        "id": "ylFQwH3Jdyv_",
        "outputId": "b64d6e39-93b7-41f3-bf79-a8c9882ac9aa"
      },
      "execution_count": null,
      "outputs": [
        {
          "output_type": "stream",
          "name": "stdout",
          "text": [
            "Validation Set Evaluation:\n",
            "              precision    recall  f1-score   support\n",
            "\n",
            "         NOT       0.74      0.87      0.80       648\n",
            "         OFF       0.65      0.45      0.53       352\n",
            "\n",
            "    accuracy                           0.72      1000\n",
            "   macro avg       0.70      0.66      0.67      1000\n",
            "weighted avg       0.71      0.72      0.71      1000\n",
            "\n",
            "Test Set Evaluation:\n",
            "              precision    recall  f1-score   support\n",
            "\n",
            "         NOT       0.81      0.91      0.86       620\n",
            "         OFF       0.67      0.46      0.55       240\n",
            "\n",
            "    accuracy                           0.79       860\n",
            "   macro avg       0.74      0.69      0.70       860\n",
            "weighted avg       0.77      0.79      0.77       860\n",
            "\n"
          ]
        }
      ]
    },
    {
      "cell_type": "markdown",
      "metadata": {
        "id": "CsVoNoIAexsd"
      },
      "source": [
        "# SVM"
      ]
    },
    {
      "cell_type": "code",
      "execution_count": null,
      "metadata": {
        "colab": {
          "base_uri": "https://localhost:8080/"
        },
        "id": "K-1R_NgTzPAR",
        "outputId": "a21bfb01-7126-4249-8d14-05a76fd8d0ba"
      },
      "outputs": [
        {
          "output_type": "stream",
          "name": "stdout",
          "text": [
            "Validation Set Evaluation:\n",
            "              precision    recall  f1-score   support\n",
            "\n",
            "         NOT       0.77      0.85      0.80       648\n",
            "         OFF       0.65      0.52      0.58       352\n",
            "\n",
            "    accuracy                           0.73      1000\n",
            "   macro avg       0.71      0.68      0.69      1000\n",
            "weighted avg       0.72      0.73      0.72      1000\n",
            "\n",
            "Test Set Evaluation:\n",
            "              precision    recall  f1-score   support\n",
            "\n",
            "         NOT       0.82      0.86      0.84       620\n",
            "         OFF       0.59      0.50      0.54       240\n",
            "\n",
            "    accuracy                           0.76       860\n",
            "   macro avg       0.70      0.68      0.69       860\n",
            "weighted avg       0.75      0.76      0.76       860\n",
            "\n"
          ]
        }
      ],
      "source": [
        "def preprocess_data(documents, labels, vectorizer=None, label_encoder=None):\n",
        "    '''Transform documents using TF-IDF and encode labels'''\n",
        "\n",
        "    if vectorizer is None:\n",
        "        count_vectorizer = CountVectorizer(\n",
        "            max_features=20000,  # Limit to 20,000 features\n",
        "            # stop_words='english',  # Remove common English stop words\n",
        "            # lowercase=True,\n",
        "            ngram_range=(1, 2)  # Use unigrams and bigrams\n",
        "        )\n",
        "        count_vectorizer.fit(documents)  # Fit only on training\n",
        "    else:\n",
        "        count_vectorizer = vectorizer  # Use pre-fitted vectorizer\n",
        "    X = count_vectorizer.transform(documents)\n",
        "\n",
        "\n",
        "    # Label encoding\n",
        "    if label_encoder is None:\n",
        "        label_encoder = LabelEncoder()\n",
        "        y = label_encoder.fit_transform(labels)\n",
        "    else:\n",
        "        y = label_encoder.transform(labels) # Use pre-fitted label_encoder\n",
        "\n",
        "    return X, y, count_vectorizer, label_encoder\n",
        "\n",
        "\n",
        "# Preprocess the training, validation, and test sets\n",
        "X_train, y_train, tfidf_vectorizer, label_encoder = preprocess_data(train_docs, train_labels)\n",
        "X_val, y_val, _, _ = preprocess_data(dev_docs, dev_labels, tfidf_vectorizer, label_encoder)\n",
        "X_test, y_test, _, _ = preprocess_data(test_docs, test_labels, tfidf_vectorizer, label_encoder)\n",
        "\n",
        "X_train_np = X_train.toarray()\n",
        "X_val_np = X_val.toarray()\n",
        "X_test_np = X_test.toarray()\n",
        "\n",
        "# Create and train the SVM model\n",
        "model = LinearSVC(C=0.5, max_iter=10000)  # Adjust C and max_iter as needed\n",
        "# model = SVC(kernel='rbf', C=1.0, max-iter=5000)\n",
        "model.fit(X_train_np, y_train)\n",
        "\n",
        "# Evaluate the model on validation and test sets\n",
        "y_pred_val = model.predict(X_val_np)\n",
        "y_pred_test = model.predict(X_test_np)\n",
        "\n",
        "# Print evaluation reports\n",
        "print(\"Validation Set Evaluation:\")\n",
        "print(classification_report(y_val, y_pred_val, target_names=label_encoder.classes_))\n",
        "\n",
        "print(\"Test Set Evaluation:\")\n",
        "print(classification_report(y_test, y_pred_test, target_names=label_encoder.classes_))"
      ]
    },
    {
      "cell_type": "markdown",
      "metadata": {
        "id": "8HcmnmxUm2LA"
      },
      "source": [
        "# Pre-trained language model"
      ]
    },
    {
      "cell_type": "code",
      "execution_count": 39,
      "metadata": {
        "id": "eAeYYM0km5J-",
        "colab": {
          "base_uri": "https://localhost:8080/"
        },
        "outputId": "3b8dda1b-c4b2-4b6f-8031-3071f09aa501"
      },
      "outputs": [
        {
          "output_type": "stream",
          "name": "stdout",
          "text": [
            "time: 722 µs (started: 2024-11-04 18:32:12 +00:00)\n"
          ]
        }
      ],
      "source": [
        "learning_rate = 5e-5\n",
        "batch_size = 16\n",
        "max_length = 100\n",
        "epochs = 5\n",
        "\n",
        "# *** SELECT LANGUAGE MODELS HERE... ***\n",
        "\n",
        "# language_model = 'bert-base-uncased'\n",
        "# language_model = 'roberta-base'\n",
        "language_model = 'microsoft/deberta-v3-base'\n",
        "# language_model = 'distilbert-base-uncased'\n",
        "# language_model = 'google/electra-small-generator'\n",
        "# language_model = 'huawei-noah/TinyBERT_General_4L_312D'\n",
        "# language_model = 'albert/albert-base-v2'"
      ]
    },
    {
      "cell_type": "code",
      "execution_count": 29,
      "metadata": {
        "id": "RHgxXiMbnAvD",
        "colab": {
          "base_uri": "https://localhost:8080/"
        },
        "outputId": "e5aefd04-da15-45b5-c021-9974c8124d1b"
      },
      "outputs": [
        {
          "output_type": "stream",
          "name": "stdout",
          "text": [
            "time: 4.11 ms (started: 2024-11-04 18:27:24 +00:00)\n"
          ]
        }
      ],
      "source": [
        "from sklearn.metrics import classification_report\n",
        "\n",
        "\n",
        "def test_set_predict(model, tokenizer, X_test, Y_test, ident): # Added tokenizer as an argument\n",
        "    '''Do predictions and measure accuracy on our own test set (that we split off train)'''\n",
        "    # Tokenize the test data\n",
        "    tokens_test = tokenizer(X_test, padding=True, max_length=max_length,\n",
        "                            truncation=True, return_tensors=\"np\").data\n",
        "    # Get predictions using the trained model\n",
        "    Y_pred = model.predict(tokens_test)[\"logits\"] # Predict on tokenized input\n",
        "    # Finally, convert to numerical labels to get scores with sklearn\n",
        "    Y_pred = np.argmax(Y_pred, axis=1)\n",
        "    # If you have gold data, you can calculate accuracy\n",
        "    Y_test = np.argmax(Y_test, axis=1)\n",
        "\n",
        "    precision, recall, f1, _ = precision_recall_fscore_support(Y_test, Y_pred, average='weighted')\n",
        "    print('Accuracy on own {1} set: {0}'.format(round(accuracy_score(Y_test, Y_pred), 3), ident))\n",
        "    print('Precision: {0}'.format(round(precision, 3)))\n",
        "    print('Recall: {0}'.format(round(recall, 3)))\n",
        "    print('F1: {0}'.format(round(f1, 3)))\n",
        "\n",
        "    # Confusion matrix\n",
        "    unique_labels = encoder.classes_\n",
        "\n",
        "    cm = confusion_matrix(Y_test, Y_pred)\n",
        "    disp = ConfusionMatrixDisplay(cm, display_labels=unique_labels)\n",
        "    disp.plot()\n",
        "    plt.show()\n",
        "\n",
        "    # classification report\n",
        "    print(classification_report(Y_test, Y_pred, target_names=unique_labels))"
      ]
    },
    {
      "cell_type": "markdown",
      "metadata": {
        "id": "a-z-YobynSaD"
      },
      "source": [
        "Learning rate schedulers"
      ]
    },
    {
      "cell_type": "code",
      "execution_count": 23,
      "metadata": {
        "id": "a6gMQfzKnUNN",
        "colab": {
          "base_uri": "https://localhost:8080/"
        },
        "outputId": "b4d2b541-b03c-493c-87de-d0f271ab7d32"
      },
      "outputs": [
        {
          "output_type": "stream",
          "name": "stdout",
          "text": [
            "time: 1.19 ms (started: 2024-11-04 18:01:47 +00:00)\n"
          ]
        }
      ],
      "source": [
        "def constant_decay(epoch):\n",
        "  return learning_rate\n",
        "\n",
        "def step_decay(epoch):\n",
        "  initial_lr = learning_rate\n",
        "  drop = 0.5\n",
        "  epochs_drop = 2.0\n",
        "  lr = initial_lr * math.pow(drop, math.floor((1+epoch)/epochs_drop))\n",
        "  return lr\n",
        "\n",
        "def exp_decay(epoch):\n",
        "  initial_lr = learning_rate\n",
        "  k = 0.1\n",
        "  lr = initial_lr * math.exp(-k*epoch)\n",
        "  return lr\n",
        "\n",
        "def polynomial_decay(epoch):\n",
        "  initial_lr = learning_rate\n",
        "  power = 1.0\n",
        "  end_learning_rate = 0.00001\n",
        "  decay_steps = epochs  # Total number of training epochs\n",
        "  lr = (initial_lr - end_learning_rate) * (1 - epoch / decay_steps) ** (power) + end_learning_rate\n",
        "  return lr"
      ]
    },
    {
      "cell_type": "markdown",
      "metadata": {
        "id": "0RjqAFxonXpX"
      },
      "source": [
        "Load data and train model"
      ]
    },
    {
      "cell_type": "code",
      "execution_count": 40,
      "metadata": {
        "colab": {
          "base_uri": "https://localhost:8080/"
        },
        "id": "H0LsJS4AnVtz",
        "outputId": "2d056019-2ed1-4fa6-a741-79cdf9422fc1"
      },
      "outputs": [
        {
          "output_type": "stream",
          "name": "stderr",
          "text": [
            "/usr/local/lib/python3.10/dist-packages/huggingface_hub/file_download.py:1150: FutureWarning: `resume_download` is deprecated and will be removed in version 1.0.0. Downloads always resume when possible. If you want to force a new download, use `force_download=True`.\n",
            "  warnings.warn(\n",
            "/usr/local/lib/python3.10/dist-packages/transformers/convert_slow_tokenizer.py:515: UserWarning: The sentencepiece tokenizer that you are converting to a fast tokenizer uses the byte fallback option which is not implemented in the fast tokenizers. In practice this means that the fast version of the tokenizer can produce unknown tokens whereas the sentencepiece version would have converted these unknown tokens into a sequence of byte tokens matching the original piece of text.\n",
            "  warnings.warn(\n",
            "Some weights of the PyTorch model were not used when initializing the TF 2.0 model TFDebertaV2ForSequenceClassification: ['mask_predictions.LayerNorm.weight', 'lm_predictions.lm_head.dense.weight', 'lm_predictions.lm_head.bias', 'mask_predictions.dense.bias', 'mask_predictions.classifier.weight', 'lm_predictions.lm_head.dense.bias', 'lm_predictions.lm_head.LayerNorm.bias', 'mask_predictions.LayerNorm.bias', 'lm_predictions.lm_head.LayerNorm.weight', 'mask_predictions.classifier.bias', 'deberta.embeddings.position_embeddings.weight', 'mask_predictions.dense.weight']\n",
            "- This IS expected if you are initializing TFDebertaV2ForSequenceClassification from a PyTorch model trained on another task or with another architecture (e.g. initializing a TFBertForSequenceClassification model from a BertForPreTraining model).\n",
            "- This IS NOT expected if you are initializing TFDebertaV2ForSequenceClassification from a PyTorch model that you expect to be exactly identical (e.g. initializing a TFBertForSequenceClassification model from a BertForSequenceClassification model).\n",
            "Some weights or buffers of the TF 2.0 model TFDebertaV2ForSequenceClassification were not initialized from the PyTorch model and are newly initialized: ['pooler.dense.weight', 'pooler.dense.bias', 'classifier.weight', 'classifier.bias']\n",
            "You should probably TRAIN this model on a down-stream task to be able to use it for predictions and inference.\n"
          ]
        },
        {
          "output_type": "stream",
          "name": "stdout",
          "text": [
            "Epoch 1/5\n",
            "765/765 [==============================] - 399s 457ms/step - loss: 0.6548 - accuracy: 0.6650 - val_loss: 0.6491 - val_accuracy: 0.6480 - lr: 0.0050\n",
            "Epoch 2/5\n",
            "765/765 [==============================] - 342s 448ms/step - loss: 0.6382 - accuracy: 0.6688 - val_loss: 0.6491 - val_accuracy: 0.6480 - lr: 0.0040\n",
            "Epoch 3/5\n",
            "765/765 [==============================] - 344s 449ms/step - loss: 0.6363 - accuracy: 0.6693 - val_loss: 0.6487 - val_accuracy: 0.6480 - lr: 0.0030\n",
            "Epoch 4/5\n",
            "765/765 [==============================] - 343s 449ms/step - loss: 0.6354 - accuracy: 0.6693 - val_loss: 0.6585 - val_accuracy: 0.6480 - lr: 0.0020\n",
            "Epoch 5/5\n",
            "765/765 [==============================] - 344s 450ms/step - loss: 0.6354 - accuracy: 0.6693 - val_loss: 0.6492 - val_accuracy: 0.6480 - lr: 0.0010\n",
            "32/32 [==============================] - 14s 247ms/step\n",
            "time: 30min 19s (started: 2024-11-04 18:32:17 +00:00)\n"
          ]
        }
      ],
      "source": [
        "# Transform words to indices using a vectorizer\n",
        "vectorizer = TextVectorization(standardize=None, output_sequence_length=25)\n",
        "\n",
        "vectorizer.adapt(train_docs)\n",
        "\n",
        "# Transform string labels to one-hot encodings\n",
        "encoder = LabelBinarizer()\n",
        "Y_train_bin = encoder.fit_transform(train_labels)\n",
        "Y_dev_bin = encoder.fit_transform(dev_labels)\n",
        "Y_test_bin = encoder.fit_transform(test_labels)\n",
        "\n",
        "if Y_train_bin.shape[1] == 1:\n",
        "    Y_train_bin = np.hstack([(1 - Y_train_bin), Y_train_bin])\n",
        "    Y_dev_bin = np.hstack([(1 - Y_dev_bin), Y_dev_bin])\n",
        "    Y_test_bin = np.hstack([(1 - Y_test_bin), Y_test_bin])\n",
        "\n",
        "lm = language_model\n",
        "\n",
        "tokenizer = AutoTokenizer.from_pretrained(lm)\n",
        "\n",
        "# Load the pretrained model\n",
        "model = TFAutoModelForSequenceClassification.from_pretrained(lm, from_pt=True)\n",
        "\n",
        "tokens_train = tokenizer(train_docs, padding=True, max_length=max_length,\n",
        "                         truncation=True, return_tensors=\"np\").data\n",
        "tokens_dev = tokenizer(dev_docs, padding=True, max_length=max_length,\n",
        "                       truncation=True, return_tensors=\"np\").data\n",
        "\n",
        "# Learning rate scheduler\n",
        "lr_scheduler = tf.keras.callbacks.LearningRateScheduler(polynomial_decay)\n",
        "\n",
        "# Loss function & optimizer\n",
        "loss_function = BinaryCrossentropy(from_logits=True)\n",
        "optim = Adam(learning_rate=learning_rate)\n",
        "\n",
        "model.compile(loss=loss_function, optimizer=optim, metrics=['accuracy'])\n",
        "model.fit(tokens_train, Y_train_bin, verbose=1, epochs=epochs,\n",
        "          batch_size=batch_size, validation_data=(tokens_dev, Y_dev_bin),\n",
        "          callbacks=[lr_scheduler])\n",
        "\n",
        "Y_pred = model.predict(tokens_dev)[\"logits\"]"
      ]
    },
    {
      "cell_type": "markdown",
      "metadata": {
        "id": "Mfwsiz_atPph"
      },
      "source": [
        "Dev set"
      ]
    },
    {
      "cell_type": "code",
      "execution_count": 36,
      "metadata": {
        "id": "AvPHKHW4zVz4",
        "colab": {
          "base_uri": "https://localhost:8080/"
        },
        "outputId": "7f6d3d42-7c34-4f36-d4dc-bae90f1441b4"
      },
      "outputs": [
        {
          "output_type": "stream",
          "name": "stdout",
          "text": [
            "[[0 1]\n",
            " [0 1]\n",
            " [1 0]\n",
            " ...\n",
            " [1 0]\n",
            " [1 0]\n",
            " [1 0]]\n",
            "['@ user @ user you are so beautiful', '@ user he is not a troll he is simply dumb but i ’ m enjoying it i love tweeter for this 🤣🤣🤣🤣🤣🤣🤣', '@ user i understand annie she is stuck in between ! i understand her !', \"`` @ user @ user hillary was blaming women not too long ago . better hope the uneducated '' '' do n't show up to vote again . “ it is n't so much that liberals are ignorant . it 's just that they know so many things that are n't so. ” '' '' ''\", '@ user @ user i support jahs blessings on his hussle .... he is d bomb']\n",
            "[[1 0]\n",
            " [0 1]\n",
            " [1 0]\n",
            " [0 1]\n",
            " [0 1]]\n",
            "time: 5.59 ms (started: 2024-11-04 18:30:17 +00:00)\n"
          ]
        }
      ],
      "source": [
        "print(Y_train_bin)\n",
        "print(dev_docs[:5])\n",
        "print(Y_dev_bin[:5])"
      ]
    },
    {
      "cell_type": "code",
      "execution_count": 31,
      "metadata": {
        "colab": {
          "base_uri": "https://localhost:8080/",
          "height": 886
        },
        "id": "V01fCL41tQwb",
        "outputId": "5e18f4ae-3ae2-4551-df6a-6cdbde8cffc3"
      },
      "outputs": [
        {
          "output_type": "stream",
          "name": "stdout",
          "text": [
            "32/32 [==============================] - 6s 192ms/step\n"
          ]
        },
        {
          "output_type": "stream",
          "name": "stderr",
          "text": [
            "/usr/local/lib/python3.10/dist-packages/sklearn/metrics/_classification.py:1531: UndefinedMetricWarning: Precision is ill-defined and being set to 0.0 in labels with no predicted samples. Use `zero_division` parameter to control this behavior.\n",
            "  _warn_prf(average, modifier, f\"{metric.capitalize()} is\", len(result))\n"
          ]
        },
        {
          "output_type": "stream",
          "name": "stdout",
          "text": [
            "Accuracy on own dev set: 0.648\n",
            "Precision: 0.42\n",
            "Recall: 0.648\n",
            "F1: 0.51\n"
          ]
        },
        {
          "output_type": "display_data",
          "data": {
            "text/plain": [
              "<Figure size 640x480 with 2 Axes>"
            ],
            "image/png": "[encoded data removed]"
          },
          "metadata": {}
        },
        {
          "output_type": "stream",
          "name": "stdout",
          "text": [
            "              precision    recall  f1-score   support\n",
            "\n",
            "         NOT       0.65      1.00      0.79       648\n",
            "         OFF       0.00      0.00      0.00       352\n",
            "\n",
            "    accuracy                           0.65      1000\n",
            "   macro avg       0.32      0.50      0.39      1000\n",
            "weighted avg       0.42      0.65      0.51      1000\n",
            "\n",
            "Predicted classes: (array([0]), array([1000]))\n",
            "time: 10.7 s (started: 2024-11-04 18:28:09 +00:00)\n"
          ]
        },
        {
          "output_type": "stream",
          "name": "stderr",
          "text": [
            "/usr/local/lib/python3.10/dist-packages/sklearn/metrics/_classification.py:1531: UndefinedMetricWarning: Precision is ill-defined and being set to 0.0 in labels with no predicted samples. Use `zero_division` parameter to control this behavior.\n",
            "  _warn_prf(average, modifier, f\"{metric.capitalize()} is\", len(result))\n",
            "/usr/local/lib/python3.10/dist-packages/sklearn/metrics/_classification.py:1531: UndefinedMetricWarning: Precision is ill-defined and being set to 0.0 in labels with no predicted samples. Use `zero_division` parameter to control this behavior.\n",
            "  _warn_prf(average, modifier, f\"{metric.capitalize()} is\", len(result))\n",
            "/usr/local/lib/python3.10/dist-packages/sklearn/metrics/_classification.py:1531: UndefinedMetricWarning: Precision is ill-defined and being set to 0.0 in labels with no predicted samples. Use `zero_division` parameter to control this behavior.\n",
            "  _warn_prf(average, modifier, f\"{metric.capitalize()} is\", len(result))\n"
          ]
        }
      ],
      "source": [
        "Y_pred_binary = np.argmax(Y_pred, axis=1)\n",
        "test_set_predict(model, tokenizer, dev_docs, Y_dev_bin, \"dev\")\n",
        "print(\"Predicted classes:\", np.unique(Y_pred_binary, return_counts=True))"
      ]
    },
    {
      "cell_type": "code",
      "execution_count": 42,
      "metadata": {
        "id": "MmrBy0BbwQ_M",
        "colab": {
          "base_uri": "https://localhost:8080/"
        },
        "outputId": "5f0ca3bc-4562-4aba-d531-cf544acded19"
      },
      "outputs": [
        {
          "output_type": "stream",
          "name": "stdout",
          "text": [
            "[0 0 0 0 0 0 0 0 0 0 0 0 0 0 0 0 0 0 0 0 0 0 0 0 0 0 0 0 0 0 0 0 0 0 0 0 0\n",
            " 0 0 0 0 0 0 0 0 0 0 0 0 0 0 0 0 0 0 0 0 0 0 0 0 0 0 0 0 0 0 0 0 0 0 0 0 0\n",
            " 0 0 0 0 0 0 0 0 0 0 0 0 0 0 0 0 0 0 0 0 0 0 0 0 0 0 0 0 0 0 0 0 0 0 0 0 0\n",
            " 0 0 0 0 0 0 0 0 0 0 0 0 0 0 0 0 0 0 0 0 0 0 0 0 0 0 0 0 0 0 0 0 0 0 0 0 0\n",
            " 0 0 0 0 0 0 0 0 0 0 0 0 0 0 0 0 0 0 0 0 0 0 0 0 0 0 0 0 0 0 0 0 0 0 0 0 0\n",
            " 0 0 0 0 0 0 0 0 0 0 0 0 0 0 0 0 0 0 0 0 0 0 0 0 0 0 0 0 0 0 0 0 0 0 0 0 0\n",
            " 0 0 0 0 0 0 0 0 0 0 0 0 0 0 0 0 0 0 0 0 0 0 0 0 0 0 0 0 0 0 0 0 0 0 0 0 0\n",
            " 0 0 0 0 0 0 0 0 0 0 0 0 0 0 0 0 0 0 0 0 0 0 0 0 0 0 0 0 0 0 0 0 0 0 0 0 0\n",
            " 0 0 0 0 0 0 0 0 0 0 0 0 0 0 0 0 0 0 0 0 0 0 0 0 0 0 0 0 0 0 0 0 0 0 0 0 0\n",
            " 0 0 0 0 0 0 0 0 0 0 0 0 0 0 0 0 0 0 0 0 0 0 0 0 0 0 0 0 0 0 0 0 0 0 0 0 0\n",
            " 0 0 0 0 0 0 0 0 0 0 0 0 0 0 0 0 0 0 0 0 0 0 0 0 0 0 0 0 0 0 0 0 0 0 0 0 0\n",
            " 0 0 0 0 0 0 0 0 0 0 0 0 0 0 0 0 0 0 0 0 0 0 0 0 0 0 0 0 0 0 0 0 0 0 0 0 0\n",
            " 0 0 0 0 0 0 0 0 0 0 0 0 0 0 0 0 0 0 0 0 0 0 0 0 0 0 0 0 0 0 0 0 0 0 0 0 0\n",
            " 0 0 0 0 0 0 0 0 0 0 0 0 0 0 0 0 0 0 0 0 0 0 0 0 0 0 0 0 0 0 0 0 0 0 0 0 0\n",
            " 0 0 0 0 0 0 0 0 0 0 0 0 0 0 0 0 0 0 0 0 0 0 0 0 0 0 0 0 0 0 0 0 0 0 0 0 0\n",
            " 0 0 0 0 0 0 0 0 0 0 0 0 0 0 0 0 0 0 0 0 0 0 0 0 0 0 0 0 0 0 0 0 0 0 0 0 0\n",
            " 0 0 0 0 0 0 0 0 0 0 0 0 0 0 0 0 0 0 0 0 0 0 0 0 0 0 0 0 0 0 0 0 0 0 0 0 0\n",
            " 0 0 0 0 0 0 0 0 0 0 0 0 0 0 0 0 0 0 0 0 0 0 0 0 0 0 0 0 0 0 0 0 0 0 0 0 0\n",
            " 0 0 0 0 0 0 0 0 0 0 0 0 0 0 0 0 0 0 0 0 0 0 0 0 0 0 0 0 0 0 0 0 0 0 0 0 0\n",
            " 0 0 0 0 0 0 0 0 0 0 0 0 0 0 0 0 0 0 0 0 0 0 0 0 0 0 0 0 0 0 0 0 0 0 0 0 0\n",
            " 0 0 0 0 0 0 0 0 0 0 0 0 0 0 0 0 0 0 0 0 0 0 0 0 0 0 0 0 0 0 0 0 0 0 0 0 0\n",
            " 0 0 0 0 0 0 0 0 0 0 0 0 0 0 0 0 0 0 0 0 0 0 0 0 0 0 0 0 0 0 0 0 0 0 0 0 0\n",
            " 0 0 0 0 0 0 0 0 0 0 0 0 0 0 0 0 0 0 0 0 0 0 0 0 0 0 0 0 0 0 0 0 0 0 0 0 0\n",
            " 0 0 0 0 0 0 0 0 0 0 0 0 0 0 0 0 0 0 0 0 0 0 0 0 0 0 0 0 0 0 0 0 0 0 0 0 0\n",
            " 0 0 0 0 0 0 0 0 0 0 0 0 0 0 0 0 0 0 0 0 0 0 0 0 0 0 0 0 0 0 0 0 0 0 0 0 0\n",
            " 0 0 0 0 0 0 0 0 0 0 0 0 0 0 0 0 0 0 0 0 0 0 0 0 0 0 0 0 0 0 0 0 0 0 0 0 0\n",
            " 0 0 0 0 0 0 0 0 0 0 0 0 0 0 0 0 0 0 0 0 0 0 0 0 0 0 0 0 0 0 0 0 0 0 0 0 0\n",
            " 0]\n",
            "time: 3.82 ms (started: 2024-11-04 19:05:07 +00:00)\n"
          ]
        }
      ],
      "source": [
        "print(Y_pred_binary)"
      ]
    },
    {
      "cell_type": "markdown",
      "metadata": {
        "id": "Y4kTfRK24cee"
      },
      "source": [
        "Test set"
      ]
    },
    {
      "cell_type": "code",
      "execution_count": 41,
      "metadata": {
        "colab": {
          "base_uri": "https://localhost:8080/",
          "height": 868
        },
        "id": "MULRP2iytRS1",
        "outputId": "65043964-7420-4d20-f7fe-45dd5e0078a0"
      },
      "outputs": [
        {
          "output_type": "stream",
          "name": "stdout",
          "text": [
            "27/27 [==============================] - 16s 253ms/step\n",
            "Accuracy on own test set: 0.721\n",
            "Precision: 0.52\n",
            "Recall: 0.721\n",
            "F1: 0.604\n"
          ]
        },
        {
          "output_type": "stream",
          "name": "stderr",
          "text": [
            "/usr/local/lib/python3.10/dist-packages/sklearn/metrics/_classification.py:1531: UndefinedMetricWarning: Precision is ill-defined and being set to 0.0 in labels with no predicted samples. Use `zero_division` parameter to control this behavior.\n",
            "  _warn_prf(average, modifier, f\"{metric.capitalize()} is\", len(result))\n"
          ]
        },
        {
          "output_type": "display_data",
          "data": {
            "text/plain": [
              "<Figure size 640x480 with 2 Axes>"
            ],
            "image/png": "[encoded data removed]"
          },
          "metadata": {}
        },
        {
          "output_type": "stream",
          "name": "stdout",
          "text": [
            "              precision    recall  f1-score   support\n",
            "\n",
            "         NOT       0.72      1.00      0.84       620\n",
            "         OFF       0.00      0.00      0.00       240\n",
            "\n",
            "    accuracy                           0.72       860\n",
            "   macro avg       0.36      0.50      0.42       860\n",
            "weighted avg       0.52      0.72      0.60       860\n",
            "\n",
            "time: 16.3 s (started: 2024-11-04 19:04:10 +00:00)\n"
          ]
        },
        {
          "output_type": "stream",
          "name": "stderr",
          "text": [
            "/usr/local/lib/python3.10/dist-packages/sklearn/metrics/_classification.py:1531: UndefinedMetricWarning: Precision is ill-defined and being set to 0.0 in labels with no predicted samples. Use `zero_division` parameter to control this behavior.\n",
            "  _warn_prf(average, modifier, f\"{metric.capitalize()} is\", len(result))\n",
            "/usr/local/lib/python3.10/dist-packages/sklearn/metrics/_classification.py:1531: UndefinedMetricWarning: Precision is ill-defined and being set to 0.0 in labels with no predicted samples. Use `zero_division` parameter to control this behavior.\n",
            "  _warn_prf(average, modifier, f\"{metric.capitalize()} is\", len(result))\n",
            "/usr/local/lib/python3.10/dist-packages/sklearn/metrics/_classification.py:1531: UndefinedMetricWarning: Precision is ill-defined and being set to 0.0 in labels with no predicted samples. Use `zero_division` parameter to control this behavior.\n",
            "  _warn_prf(average, modifier, f\"{metric.capitalize()} is\", len(result))\n"
          ]
        }
      ],
      "source": [
        "test_set_predict(model, tokenizer, test_docs, Y_test_bin, \"test\")"
      ]
    }
  ],
  "metadata": {
    "colab": {
      "provenance": [],
      "gpuType": "T4"
    },
    "kernelspec": {
      "display_name": "Python 3",
      "name": "python3"
    },
    "language_info": {
      "name": "python"
    },
    "accelerator": "GPU"
  },
  "nbformat": 4,
  "nbformat_minor": 0
}